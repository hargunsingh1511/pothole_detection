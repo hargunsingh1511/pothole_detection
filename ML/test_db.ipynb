{
 "cells": [
  {
   "cell_type": "code",
   "execution_count": 1,
   "metadata": {},
   "outputs": [
    {
     "name": "stdout",
     "output_type": "stream",
     "text": [
      "(1, 0, 'frames/frame_0.jpg', 12.981703, 77.57528, '2024-10-11 12:15:42')\n",
      "(2, 1, 'frames/frame_1.jpg', 12.974278, 77.594978, '2024-10-11 12:15:42')\n",
      "(3, 2, 'frames/frame_2.jpg', 12.980593, 77.626977, '2024-10-11 12:15:42')\n",
      "(4, 3, 'frames/frame_3.jpg', 12.906069, 77.620777, '2024-10-11 12:15:42')\n",
      "(5, 4, 'frames/frame_4.jpg', 12.902865, 77.609559, '2024-10-11 12:15:42')\n",
      "(6, 5, 'frames/frame_5.jpg', 12.985679, 77.588084, '2024-10-11 12:15:42')\n",
      "(7, 6, 'frames/frame_6.jpg', 12.915814, 77.594311, '2024-10-11 12:15:42')\n",
      "(8, 7, 'frames/frame_7.jpg', 12.919632, 77.62841, '2024-10-11 12:15:42')\n"
     ]
    }
   ],
   "source": [
    "import sqlite3\n",
    "\n",
    "# Path to your database file\n",
    "db_path = 'frames_and_locations.db'\n",
    "\n",
    "# Connect to the database\n",
    "conn = sqlite3.connect(db_path)\n",
    "cursor = conn.cursor()\n",
    "\n",
    "# Fetch 10 rows from the frame_data table\n",
    "cursor.execute('SELECT * FROM frame_data LIMIT 8')\n",
    "rows = cursor.fetchall()\n",
    "\n",
    "# Display the fetched rows\n",
    "for row in rows:\n",
    "    print(row)\n",
    "\n",
    "# Close the connection\n",
    "conn.close()"
   ]
  },
  {
   "cell_type": "code",
   "execution_count": null,
   "metadata": {},
   "outputs": [],
   "source": []
  }
 ],
 "metadata": {
  "kernelspec": {
   "display_name": "trading",
   "language": "python",
   "name": "python3"
  },
  "language_info": {
   "codemirror_mode": {
    "name": "ipython",
    "version": 3
   },
   "file_extension": ".py",
   "mimetype": "text/x-python",
   "name": "python",
   "nbconvert_exporter": "python",
   "pygments_lexer": "ipython3",
   "version": "3.10.14"
  }
 },
 "nbformat": 4,
 "nbformat_minor": 2
}
